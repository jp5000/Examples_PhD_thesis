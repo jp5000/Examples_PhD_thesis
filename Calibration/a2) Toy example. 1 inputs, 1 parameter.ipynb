{
 "cells": [
  {
   "cell_type": "code",
   "execution_count": 89,
   "metadata": {
    "collapsed": false
   },
   "outputs": [],
   "source": [
    "import numpy as np\n",
    "import scipy.stats as stats\n",
    "import scipy.special as special\n",
    "import pandas as pd\n",
    "import chaospy as cp\n",
    "import os\n",
    "import scipy.optimize as optimization\n",
    "\n",
    "%matplotlib inline\n",
    "import matplotlib as mpl\n",
    "import matplotlib.pylab as plt\n",
    "import seaborn as sns\n",
    "\n",
    "sns.set_style(\"ticks\")#'whitegrid')#\n",
    "#sns.set_context(\"talk\")\n",
    "sns.set_style({'axes.linewidth':0.5,\n",
    "               'xtick.direction': u'in',\n",
    "               'xtick.major.size': 1.,\n",
    "               'xtick.minor.size': 0.5,\n",
    "               'ytick.direction': u'in',               \n",
    "               'ytick.major.size': 1.,\n",
    "               'ytick.minor.size': 0.5})  \n",
    "\n",
    "\n"
   ]
  },
  {
   "cell_type": "markdown",
   "metadata": {},
   "source": [
    "# Problem description\n",
    "\n",
    "### Model\n",
    "$ y = I\\,e^{-a\\,x}\\,\\cos(b\\,x) $\n",
    "\n",
    "- There is no (sturctural) model uncertainty\n",
    "\n",
    "### True parameters\n",
    "$I = 10.$\n",
    "\n",
    "$a = 0.2$\n",
    "\n",
    "$b = 0.5$\n",
    "\n",
    "### True input distribution\n",
    "$p(x) = Weibull(A=2,k=10)$\n",
    "\n",
    "### Input Measurement Distribution\n",
    "$p(\\tilde{x}|x) = Normal(\\mu=x,\\sigma_x)$\n",
    "\n",
    "### Output Measurement Distribution\n",
    "$p(\\tilde{y}|y) = Normal(\\mu=y,\\sigma_y)$\n",
    "\n",
    "\n"
   ]
  },
  {
   "cell_type": "code",
   "execution_count": 90,
   "metadata": {
    "collapsed": false
   },
   "outputs": [],
   "source": [
    "def model(x,a,b,I):\n",
    "    return I*np.exp(-a*x)*np.cos(b*x)"
   ]
  },
  {
   "cell_type": "markdown",
   "metadata": {},
   "source": [
    "# Synthetica data"
   ]
  },
  {
   "cell_type": "code",
   "execution_count": 91,
   "metadata": {
    "collapsed": false
   },
   "outputs": [],
   "source": [
    "dist_x = cp.Weibull(shape=2., scale=12., shift=0)\n",
    "sigma_x = 2.0\n",
    "sigma_y = 0.5\n",
    "dist_meas_x = cp.Normal(mu=0., sigma=sigma_x)\n",
    "dist_meas_y = cp.Normal(mu=0., sigma=sigma_y) \n",
    "\n",
    "N_meas = 1000\n",
    "x_true_sample = dist_x.sample(size=N_meas,rule='R')\n",
    "y_true_sample = model(x_true_sample,a=0.2,b=0.5,I=10.)\n",
    "\n",
    "epsilon_x_sample = dist_meas_x.sample(size=N_meas,rule='R')\n",
    "epsilon_y_sample = dist_meas_y.sample(size=N_meas,rule='R')\n",
    "\n",
    "x_tilde = x_true_sample+epsilon_x_sample\n",
    "y_tilde = y_true_sample+epsilon_y_sample"
   ]
  },
  {
   "cell_type": "code",
   "execution_count": 92,
   "metadata": {
    "collapsed": false
   },
   "outputs": [],
   "source": [
    "folder = 'Figures/a2_Sx_'+str(sigma_x).replace('.','p')+'_Sy_'+str(sigma_y).replace('.','p')+'/'\n",
    "if not os.path.exists(folder): os.mkdir(folder)"
   ]
  },
  {
   "cell_type": "code",
   "execution_count": 93,
   "metadata": {
    "collapsed": false
   },
   "outputs": [
    {
     "name": "stdout",
     "output_type": "stream",
     "text": [
      "\n"
     ]
    },
    {
     "data": {
      "image/png": "[encoded data removed]",
      "text/plain": [
       "<matplotlib.figure.Figure at 0x10c9da490>"
      ]
     },
     "metadata": {},
     "output_type": "display_data"
    }
   ],
   "source": [
    "fig = plt.figure(figsize=[3,3])\n",
    "ax = fig.add_subplot(111)\n",
    "ax.plot(x_true_sample,y_true_sample,'.k',alpha=0.5)\n",
    "ax.set_xlabel('x_true_sample')\n",
    "ax.set_ylabel('y_true_sample')\n",
    "\n",
    "fig.tight_layout()\n",
    "fig.savefig(folder+'a_xy_true.pdf')\n",
    "print"
   ]
  },
  {
   "cell_type": "code",
   "execution_count": 94,
   "metadata": {
    "collapsed": false
   },
   "outputs": [
    {
     "name": "stdout",
     "output_type": "stream",
     "text": [
      "\n"
     ]
    },
    {
     "data": {
      "image/png": "[encoded data removed]",
      "text/plain": [
       "<matplotlib.figure.Figure at 0x10cda59d0>"
      ]
     },
     "metadata": {},
     "output_type": "display_data"
    }
   ],
   "source": [
    "fig=sns.jointplot(\n",
    "    x_true_sample,\n",
    "    x_tilde, \n",
    "    kind=\"hex\", \n",
    "    stat_func=stats.kendalltau,\n",
    "    size=3.5\n",
    "    )\n",
    "\n",
    "fig.set_axis_labels('x_true_sample','x_tilde')\n",
    "fig = plt.gcf()\n",
    "fig.tight_layout()\n",
    "fig.savefig(folder+'a_x_true_x_tilde.pdf')\n",
    "print"
   ]
  },
  {
   "cell_type": "code",
   "execution_count": 95,
   "metadata": {
    "collapsed": false
   },
   "outputs": [
    {
     "name": "stdout",
     "output_type": "stream",
     "text": [
      "\n"
     ]
    },
    {
     "data": {
      "image/png": "[encoded data removed]",
      "text/plain": [
       "<matplotlib.figure.Figure at 0x10c494c50>"
      ]
     },
     "metadata": {},
     "output_type": "display_data"
    }
   ],
   "source": [
    "fig=sns.jointplot(\n",
    "    y_true_sample,\n",
    "    y_tilde, \n",
    "    kind=\"hex\", \n",
    "    stat_func=stats.kendalltau,\n",
    "    size=3.5\n",
    "    )\n",
    "\n",
    "fig.set_axis_labels('y_true_sample','y_tilde')\n",
    "fig = plt.gcf()\n",
    "fig.tight_layout()\n",
    "fig.savefig(folder+'a_y_true_y_tilde.pdf')\n",
    "print"
   ]
  },
  {
   "cell_type": "code",
   "execution_count": 96,
   "metadata": {
    "collapsed": false
   },
   "outputs": [],
   "source": [
    "bins_x=np.arange(-0.5,31,1.)\n",
    "n_bin = stats.binned_statistic(x=x_tilde, values=x_tilde, statistic='count', bins=bins_x)[0]\n",
    "x_tilde_bin_E = stats.binned_statistic(x=x_tilde, values=x_tilde, statistic='mean', bins=bins_x)[0]\n",
    "x_tilde_bin_S = stats.binned_statistic(x=x_tilde, values=x_tilde, statistic=stats.sem, bins=bins_x)[0]\n",
    "y_tilde_bin_E = stats.binned_statistic(x=x_tilde, values=y_tilde, statistic='mean', bins=bins_x)[0]\n",
    "y_tilde_bin_S = stats.binned_statistic(x=x_tilde, values=y_tilde, statistic=stats.sem, bins=bins_x)[0]\n",
    "\n",
    "n_bin_min = 5\n",
    "x_tilde_bin_E = x_tilde_bin_E[n_bin>n_bin_min]\n",
    "x_tilde_bin_S = x_tilde_bin_S[n_bin>n_bin_min]\n",
    "y_tilde_bin_E = y_tilde_bin_E[n_bin>n_bin_min]\n",
    "y_tilde_bin_S = y_tilde_bin_S[n_bin>n_bin_min]"
   ]
  },
  {
   "cell_type": "code",
   "execution_count": 97,
   "metadata": {
    "collapsed": false
   },
   "outputs": [
    {
     "name": "stdout",
     "output_type": "stream",
     "text": [
      "\n"
     ]
    },
    {
     "data": {
      "image/png": "[encoded data removed]",
      "text/plain": [
       "<matplotlib.figure.Figure at 0x10d7f24d0>"
      ]
     },
     "metadata": {},
     "output_type": "display_data"
    }
   ],
   "source": [
    "fig = plt.figure(figsize=[3,3])\n",
    "ax = fig.add_subplot(111)\n",
    "ax.plot(x_tilde,y_tilde,'.k',alpha=0.5, label='meas.')\n",
    "ax.errorbar(x_tilde_bin_E, y_tilde_bin_E, yerr=y_tilde_bin_S, xerr=x_tilde_bin_S, \n",
    "            color='r',barsabove=True,linewidth=0,elinewidth=1.,alpha=0.5,zorder=100, label='SEM at bin')\n",
    "ax.plot(np.sort(x_true_sample),model(np.sort(x_true_sample),a=0.2,b=0.5,I=10.),'-b',lw=1,zorder=99, label='true')\n",
    "ax.set_xlabel('x_tilde')\n",
    "ax.set_ylabel('y_tilde')\n",
    "ax.legend(loc='upper right')\n",
    "fig.tight_layout()\n",
    "fig.savefig(folder+'a_xy_tilde.pdf')\n",
    "print"
   ]
  },
  {
   "cell_type": "markdown",
   "metadata": {},
   "source": [
    "# a1) Bayesian inference ussing PCE. \n",
    "\n",
    "### Prior parameters\n",
    "$I = 10.$\n",
    "\n",
    "$a = Uniform[0.1,0.3]$\n",
    "\n",
    "$b = 0.5$"
   ]
  },
  {
   "cell_type": "code",
   "execution_count": 253,
   "metadata": {
    "collapsed": true
   },
   "outputs": [],
   "source": [
    "prior_a = cp.Uniform(0.1,0.3)#cp.Normal(0.2,0.05)\n",
    "sigma_x_Bayes = 2.\n",
    "sigma_y_Bayes = 0.5\n",
    "dist_meas_x_Bayes = cp.Normal(mu=0., sigma=sigma_x_Bayes) \n",
    "dist_meas_y_Bayes = cp.Normal(mu=0., sigma=sigma_y_Bayes) "
   ]
  },
  {
   "cell_type": "code",
   "execution_count": 254,
   "metadata": {
    "collapsed": false
   },
   "outputs": [],
   "source": [
    "label = 'SxB_'+str(sigma_x_Bayes).replace('.','p')\\\n",
    "      +'_SyB_'+str(sigma_y_Bayes).replace('.','p')\n",
    "folder_inner = folder+label+'/'\n",
    "if not os.path.exists(folder_inner): os.mkdir(folder_inner)"
   ]
  },
  {
   "cell_type": "code",
   "execution_count": 255,
   "metadata": {
    "collapsed": true
   },
   "outputs": [],
   "source": [
    "def f(x,a,i):\n",
    "    return dist_meas_x_Bayes.pdf(x_tilde[i]-x)*dist_meas_y_Bayes.pdf(y_tilde[i]-model(x,a,b=0.5,I=10.))"
   ]
  },
  {
   "cell_type": "markdown",
   "metadata": {},
   "source": [
    "Discretizetion of the parameter space"
   ]
  },
  {
   "cell_type": "code",
   "execution_count": 256,
   "metadata": {
    "collapsed": true
   },
   "outputs": [],
   "source": [
    "a_eval = np.linspace(0.1,0.3,500)"
   ]
  },
  {
   "cell_type": "markdown",
   "metadata": {},
   "source": [
    "### PCE with respect pdf(x)"
   ]
  },
  {
   "cell_type": "code",
   "execution_count": 257,
   "metadata": {
    "collapsed": true
   },
   "outputs": [],
   "source": [
    "# Uncorrelated Uniforms\n",
    "dist_R = cp.J(cp.Uniform())"
   ]
  },
  {
   "cell_type": "code",
   "execution_count": 258,
   "metadata": {
    "collapsed": true
   },
   "outputs": [],
   "source": [
    "M = 18    # Order of the polynomial\n",
    "N = M + 1 # Number of terms, evaluations per dimension"
   ]
  },
  {
   "cell_type": "code",
   "execution_count": 259,
   "metadata": {
    "collapsed": true
   },
   "outputs": [],
   "source": [
    "# Polynomial for Uniform: \n",
    "P = cp.orth_ttr(M, dist_R)"
   ]
  },
  {
   "cell_type": "code",
   "execution_count": 260,
   "metadata": {
    "collapsed": false
   },
   "outputs": [],
   "source": [
    "# Hammersley sampling proved to be optimally stable [Hosder]=ref(at)Chaospy[31]\n",
    "\n",
    "# Exponenial rule \n",
    "# nodes_R = dist_R.sample(2**M-1,rule='M') \n",
    "\n",
    "# Fized number of nodes\n",
    "nodes_R = dist_R.sample(30,rule='M') \n",
    "nodes = dist_x.inv(dist_R.fwd(nodes_R))\n",
    "\n",
    "N_cal = 1000\n",
    "ind_nonvalid =[]\n",
    "E_x_f = np.ones([len(a_eval),N_cal])\n",
    "for i in range(N_cal):\n",
    "    sample_y_nodes = np.array([f(node,a=a_eval,i=i) for node in nodes.T])\n",
    "    #y_hat = cp.fit_regression(P, nodes_R, sample_y_nodes)\n",
    "    #E_x_f_i = cp.E(y_hat, dist_R)\n",
    "    E_x_f_i = np.mean(sample_y_nodes,axis=0)\n",
    "    \n",
    "    C_ = np.mean(E_x_f_i)\n",
    "    if  (C_>1e-4):\n",
    "        E_x_f[:,i] = E_x_f_i/C_\n",
    "    else:\n",
    "        ind_nonvalid.append(i)\n",
    "        E_x_f[:,i] = np.ones_like(E_x_f_i)"
   ]
  },
  {
   "cell_type": "code",
   "execution_count": 261,
   "metadata": {
    "collapsed": false
   },
   "outputs": [],
   "source": [
    "N_tilde = 1000#N_cal #\n",
    "\n",
    "ind = [i for i in range(N_cal) if i not in ind_nonvalid]\n",
    "\n",
    "post_a = prior_a.pdf(a_eval)\n",
    "for i in ind:\n",
    "    if (i not in ind_nonvalid)&(i<N_tilde):\n",
    "        post_a_old = post_a\n",
    "        post_a = E_x_f[:,i]*post_a_old\n",
    "\n",
    "        C_ = np.trapz(post_a,a_eval)\n",
    "        if  (C_>0):\n",
    "            post_a = post_a/C_\n",
    "        else:\n",
    "            ind_nonvalid.append(i)\n",
    "            post_a = post_a_old"
   ]
  },
  {
   "cell_type": "code",
   "execution_count": 262,
   "metadata": {
    "collapsed": false
   },
   "outputs": [
    {
     "name": "stdout",
     "output_type": "stream",
     "text": [
      "\n"
     ]
    },
    {
     "data": {
      "image/png": "[encoded data removed]",
      "text/plain": [
       "<matplotlib.figure.Figure at 0x10c9c7e10>"
      ]
     },
     "metadata": {},
     "output_type": "display_data"
    }
   ],
   "source": [
    "fig = plt.figure(figsize=[3,3])\n",
    "ax = fig.add_subplot(111)\n",
    "ax.axvline(0.2,color='r',label='true')\n",
    "ax.plot(a_eval,prior_a.pdf(a_eval),label='prior')\n",
    "ax.plot(a_eval,post_a,'k',label='post')\n",
    "\n",
    "ax.set_xlabel('a')\n",
    "ax.set_ylabel('pdf(a)')\n",
    "ax.legend(loc='upper left')\n",
    "ax.set_ylim([0,180])\n",
    "ax.set_yticklabels([])\n",
    "fig.tight_layout()\n",
    "fig.savefig(folder_inner+'a_post_N_tilde_'+str(N_tilde)+'.pdf')\n",
    "#fig.savefig(folder+'a_post_'+label+'.pdf')\n",
    "print"
   ]
  },
  {
   "cell_type": "code",
   "execution_count": 263,
   "metadata": {
    "collapsed": false
   },
   "outputs": [
    {
     "name": "stdout",
     "output_type": "stream",
     "text": [
      "Non valid =  23\n"
     ]
    },
    {
     "data": {
      "image/png": "[encoded data removed]",
      "text/plain": [
       "<matplotlib.figure.Figure at 0x10c9de8d0>"
      ]
     },
     "metadata": {},
     "output_type": "display_data"
    }
   ],
   "source": [
    "fig = plt.figure(figsize=[3,3])\n",
    "ax = fig.add_subplot(111)\n",
    "ax.plot(x_tilde,y_tilde,'.k',alpha=0.5)\n",
    "ax.plot(x_tilde[ind_nonvalid],y_tilde[ind_nonvalid],'.r')\n",
    "ax.set_xlabel('x_tilde')\n",
    "ax.set_ylabel('y_tilde')\n",
    "\n",
    "fig.tight_layout()\n",
    "fig.savefig(folder+'a_xy_tilde_non_informative_'+label+'.pdf')\n",
    "print 'Non valid = ', len(ind_nonvalid)"
   ]
  },
  {
   "cell_type": "code",
   "execution_count": 264,
   "metadata": {
    "collapsed": true
   },
   "outputs": [],
   "source": [
    "def f_SEM(x,a,i):\n",
    "    return cp.Normal(mu=0., sigma=x_tilde_bin_S[i]).pdf(x_tilde_bin_E[i]-x)\\\n",
    "          *cp.Normal(mu=0., sigma=y_tilde_bin_S[i]).pdf(y_tilde_bin_E[i]-model(x,a,b=0.5,I=10.))"
   ]
  },
  {
   "cell_type": "code",
   "execution_count": 265,
   "metadata": {
    "collapsed": true
   },
   "outputs": [],
   "source": [
    "# Hammersley sampling proved to be optimally stable [Hosder]=ref(at)Chaospy[31]\n",
    "\n",
    "# Exponenial rule \n",
    "# nodes_R = dist_R.sample(2**M-1,rule='M') \n",
    "\n",
    "# Fized number of nodes\n",
    "nodes_R = dist_R.sample(30,rule='M') \n",
    "nodes = dist_x.inv(dist_R.fwd(nodes_R))\n",
    "\n",
    "N_cal = len(y_tilde_bin_E)#\n",
    "ind_nonvalid =[]\n",
    "E_x_f_SEM = np.ones([len(a_eval),N_cal])\n",
    "for i in range(N_cal):\n",
    "    sample_y_nodes = np.array([f_SEM(node,a=a_eval,i=i) for node in nodes.T])\n",
    "    #y_hat = cp.fit_regression(P, nodes_R, sample_y_nodes)\n",
    "    #E_x_f_i = cp.E(y_hat, dist_R)\n",
    "    E_x_f_i = np.mean(sample_y_nodes,axis=0)\n",
    "    \n",
    "    C_ = np.mean(E_x_f_i)\n",
    "    if  (C_>1e-4):\n",
    "        E_x_f_SEM[:,i] = E_x_f_i/C_\n",
    "    else:\n",
    "        ind_nonvalid.append(i)\n",
    "        E_x_f_SEM[:,i] = np.ones_like(E_x_f_i)"
   ]
  },
  {
   "cell_type": "code",
   "execution_count": 266,
   "metadata": {
    "collapsed": true
   },
   "outputs": [],
   "source": [
    "N_tilde = N_cal \n",
    "\n",
    "ind = [i for i in range(N_cal) if i not in ind_nonvalid]\n",
    "\n",
    "post_a_SEM = prior_a.pdf(a_eval)\n",
    "for i in ind:\n",
    "    if (i not in ind_nonvalid)&(i<N_tilde):\n",
    "        post_a_old = post_a_SEM\n",
    "        post_a_SEM = E_x_f_SEM[:,i]*post_a_old\n",
    "\n",
    "        C_ = np.trapz(post_a_SEM,a_eval)\n",
    "        if  (C_>0):\n",
    "            post_a_SEM = post_a_SEM/C_\n",
    "        else:\n",
    "            ind_nonvalid.append(i)\n",
    "            post_a_SEM = post_a_old"
   ]
  },
  {
   "cell_type": "code",
   "execution_count": 267,
   "metadata": {
    "collapsed": true
   },
   "outputs": [],
   "source": [
    "def model_LSQfit(x,a):\n",
    "    b=0.5\n",
    "    I=10.\n",
    "    return I*np.exp(-a*x)*np.cos(b*x)"
   ]
  },
  {
   "cell_type": "code",
   "execution_count": 268,
   "metadata": {
    "collapsed": false
   },
   "outputs": [
    {
     "name": "stdout",
     "output_type": "stream",
     "text": [
      "0.255450119031\n",
      "0.000104322446949\n"
     ]
    }
   ],
   "source": [
    "LSQ = optimization.curve_fit(model_LSQfit, x_tilde, y_tilde, p0=0.2, sigma=sigma_y_Bayes)\n",
    "print LSQ[0][0]\n",
    "print LSQ[1][0][0]"
   ]
  },
  {
   "cell_type": "code",
   "execution_count": 269,
   "metadata": {
    "collapsed": false
   },
   "outputs": [
    {
     "name": "stdout",
     "output_type": "stream",
     "text": [
      "\n"
     ]
    },
    {
     "data": {
      "image/png": "[encoded data removed]",
      "text/plain": [
       "<matplotlib.figure.Figure at 0x107c95a50>"
      ]
     },
     "metadata": {},
     "output_type": "display_data"
    }
   ],
   "source": [
    "fig = plt.figure(figsize=[3,3])\n",
    "ax = fig.add_subplot(111)\n",
    "ax.axvline(0.2,color='r',label='true')\n",
    "ax.plot(a_eval,prior_a.pdf(a_eval),label='prior')\n",
    "ax.plot(a_eval,post_a,'k',label='post')\n",
    "ax.plot(a_eval,post_a_SEM,'gray',label='post \\nbin')\n",
    "\n",
    "ax.plot(a_eval,cp.Normal(LSQ[0][0],(LSQ[1][0][0])**0.5).pdf(a_eval),'b',label='LSQ',alpha=0.5)\n",
    "\n",
    "ax.set_xlabel('a')\n",
    "ax.set_ylabel('pdf(a)')\n",
    "ax.legend(loc='upper left')\n",
    "ax.set_ylim([0,180])\n",
    "ax.set_yticklabels([])\n",
    "fig.tight_layout()\n",
    "fig.savefig(folder+'a_post_'+'comp'+'.pdf')\n",
    "fig.savefig(folder_inner+'a_post_'+'comp'+'.pdf')\n",
    "print"
   ]
  },
  {
   "cell_type": "code",
   "execution_count": null,
   "metadata": {
    "collapsed": true
   },
   "outputs": [],
   "source": []
  }
 ],
 "metadata": {
  "kernelspec": {
   "display_name": "Python 2",
   "language": "python",
   "name": "python2"
  },
  "language_info": {
   "codemirror_mode": {
    "name": "ipython",
    "version": 2
   },
   "file_extension": ".py",
   "mimetype": "text/x-python",
   "name": "python",
   "nbconvert_exporter": "python",
   "pygments_lexer": "ipython2",
   "version": "2.7.11"
  }
 },
 "nbformat": 4,
 "nbformat_minor": 0
}
